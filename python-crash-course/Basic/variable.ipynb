{
 "cells": [
  {
   "cell_type": "code",
   "execution_count": 5,
   "metadata": {},
   "outputs": [
    {
     "name": "stdout",
     "output_type": "stream",
     "text": [
      "45\n",
      "2550.5\n",
      "deepen\n"
     ]
    }
   ],
   "source": [
    "#Accessing integer \n",
    "age=45\n",
    "#floating point\n",
    "salary_123=2550.5\n",
    "#string\n",
    "_name='deepen'\n",
    "#_address=\"ilam\"\n",
    "print(age)\n",
    "print(salary_123)\n",
    "print(_name)\n",
    "#print(age+salary_123)\n",
    "#print(_name+_address)"
   ]
  },
  {
   "cell_type": "code",
   "execution_count": 6,
   "metadata": {},
   "outputs": [
    {
     "name": "stdout",
     "output_type": "stream",
     "text": [
      "24\n",
      "dipen\n",
      "24\n"
     ]
    }
   ],
   "source": [
    "age=34\n",
    "age=24\n",
    "name_=\"dipen\"\n",
    "_rollno=24\n",
    "print(age)\n",
    "print(name_)\n",
    "print(_rollno)"
   ]
  },
  {
   "cell_type": "code",
   "execution_count": 7,
   "metadata": {},
   "outputs": [
    {
     "name": "stdout",
     "output_type": "stream",
     "text": [
      "10\n",
      "10\n",
      "10\n"
     ]
    }
   ],
   "source": [
    "#Assigning a single value to multiple variables: \n",
    "a = b = c = 10\n",
    "# a = 10\n",
    "# b = 5\n",
    "# c = 10\n",
    "  \n",
    "print(a)\n",
    "print(b)\n",
    "print(c)"
   ]
  },
  {
   "cell_type": "code",
   "execution_count": 8,
   "metadata": {},
   "outputs": [
    {
     "name": "stdout",
     "output_type": "stream",
     "text": [
      "23\n",
      "10.5\n",
      "python\n"
     ]
    }
   ],
   "source": [
    "age,_marks,subeject=23,10.5,\"python\"\n",
    "#age=23\n",
    "#marks=10.5\n",
    "#subeject=\"python\"\n",
    "print(age)\n",
    "print(_marks)\n",
    "print(subeject)\n",
    "\n"
   ]
  },
  {
   "cell_type": "code",
   "execution_count": 11,
   "metadata": {},
   "outputs": [
    {
     "name": "stdout",
     "output_type": "stream",
     "text": [
      "30\n",
      "my name is: deepenbhujel\n"
     ]
    }
   ],
   "source": [
    "a=10\n",
    "b=20\n",
    "print(a+b)\n",
    "#add string\n",
    "a=\"deepen\"\n",
    "b=\"bhujel\"\n",
    "print(\"my name is:\",(a+b))"
   ]
  },
  {
   "cell_type": "code",
   "execution_count": 12,
   "metadata": {},
   "outputs": [
    {
     "name": "stdout",
     "output_type": "stream",
     "text": [
      "the sum is 1020\n"
     ]
    }
   ],
   "source": [
    "# if we do \"\" in integer num it turn in to string\n",
    "a=\"10\"\n",
    "b=\"20\"\n",
    "sum=(a+b)\n",
    "print(\"the sum is\",sum)"
   ]
  }
 ],
 "metadata": {
  "interpreter": {
   "hash": "69a7ec1f19fe8e6b4d60bff3a060a39e42b8b78906aa04442e53246e4bcaf9b9"
  },
  "kernelspec": {
   "display_name": "Python 3.7.8 64-bit",
   "language": "python",
   "name": "python3"
  },
  "language_info": {
   "codemirror_mode": {
    "name": "ipython",
    "version": 3
   },
   "file_extension": ".py",
   "mimetype": "text/x-python",
   "name": "python",
   "nbconvert_exporter": "python",
   "pygments_lexer": "ipython3",
   "version": "3.7.8"
  },
  "orig_nbformat": 4
 },
 "nbformat": 4,
 "nbformat_minor": 2
}
