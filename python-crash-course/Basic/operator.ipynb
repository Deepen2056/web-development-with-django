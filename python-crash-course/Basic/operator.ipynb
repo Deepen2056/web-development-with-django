{
 "cells": [
  {
   "cell_type": "code",
   "execution_count": 4,
   "metadata": {},
   "outputs": [
    {
     "name": "stdout",
     "output_type": "stream",
     "text": [
      "16\n",
      "2\n",
      "63\n",
      "1.2857142857142858\n",
      "1\n",
      "2\n",
      "4782969\n"
     ]
    }
   ],
   "source": [
    "a=9\n",
    "b=7\n",
    "add=a+b #addition of number\n",
    "sub=a-b #sub of number\n",
    "mul=a*b #multification\n",
    "div1=a/b #division (float)\n",
    "div2=a//b #division (floor)\n",
    "mod=a%b #moduls\n",
    "p=a**b #power\n",
    "#print result\n",
    "print(add)   #9+7=16\n",
    "print(sum)    #9-7=2\n",
    "print(mul)     #9*7=63\n",
    "print(div1)\n",
    "print(div2)\n",
    "print(mod)\n",
    "print(p)"
   ]
  },
  {
   "cell_type": "code",
   "execution_count": 5,
   "metadata": {},
   "outputs": [
    {
     "name": "stdout",
     "output_type": "stream",
     "text": [
      "False\n",
      "True\n",
      "False\n",
      "True\n",
      "True\n",
      "False\n"
     ]
    }
   ],
   "source": [
    "a=10\n",
    "b=20\n",
    "print(a>b) #true\n",
    "print(a<b)  #a<b is true\n",
    "print(a==b) #a==b is false\n",
    "print(a!=b) #a!=b is true\n",
    "print(a<=b) # a <= b is true\n",
    "print(a>=b) #a<=b is false"
   ]
  }
 ],
 "metadata": {
  "interpreter": {
   "hash": "69a7ec1f19fe8e6b4d60bff3a060a39e42b8b78906aa04442e53246e4bcaf9b9"
  },
  "kernelspec": {
   "display_name": "Python 3.7.8 64-bit",
   "language": "python",
   "name": "python3"
  },
  "language_info": {
   "codemirror_mode": {
    "name": "ipython",
    "version": 3
   },
   "file_extension": ".py",
   "mimetype": "text/x-python",
   "name": "python",
   "nbconvert_exporter": "python",
   "pygments_lexer": "ipython3",
   "version": "3.7.8"
  },
  "orig_nbformat": 4
 },
 "nbformat": 4,
 "nbformat_minor": 2
}
