{
 "cells": [
  {
   "cell_type": "code",
   "execution_count": 2,
   "metadata": {},
   "outputs": [
    {
     "name": "stdout",
     "output_type": "stream",
     "text": [
      "type of a: <class 'int'>\n",
      "\n",
      "type of b: <class 'float'>\n",
      "\n",
      "type of c: <class 'complex'>\n"
     ]
    }
   ],
   "source": [
    "#numberic datatype\n",
    "#int\n",
    "#float\n",
    "#string\n",
    "a=5\n",
    "print(\"type of a:\", type(a))\n",
    "b=5.0\n",
    "print(\"\\ntype of b:\", type(b))\n",
    "c=+4j\n",
    "print(\"\\ntype of c:\",type(c))"
   ]
  },
  {
   "cell_type": "code",
   "execution_count": 4,
   "metadata": {},
   "outputs": [
    {
     "name": "stdout",
     "output_type": "stream",
     "text": [
      "35\n",
      "3000.5\n",
      "Deepen\n"
     ]
    }
   ],
   "source": [
    "# redeclaring the var\n",
    "age = 35\n",
    "salary = 3000.5\n",
    "name = \"Deepen\"\n",
    "# display\n",
    "print(age)\n",
    "print(salary)\n",
    "print(name)"
   ]
  },
  {
   "cell_type": "code",
   "execution_count": 5,
   "metadata": {},
   "outputs": [
    {
     "name": "stdout",
     "output_type": "stream",
     "text": [
      "python\n",
      "python\n",
      "python\n",
      "python\n"
     ]
    }
   ],
   "source": [
    "#sequence data type\n",
    "s='python'\n",
    "s1=\"python\"\n",
    "s2='''python'''\n",
    "s3=\"\"\"python\"\"\"\n",
    "print(s)\n",
    "print(s1)\n",
    "print(s2)\n",
    "print(s3)"
   ]
  },
  {
   "cell_type": "code",
   "execution_count": 15,
   "metadata": {},
   "outputs": [
    {
     "name": "stdout",
     "output_type": "stream",
     "text": [
      "p\n",
      "h\n",
      "n\n",
      "n\n",
      "t\n"
     ]
    }
   ],
   "source": [
    "#Accessing python of string\n",
    "s=\"python\"\n",
    "r=(s[0])\n",
    "print(r)  #p\n",
    "print(s[3])   #h\n",
    "print(s[5])   #n\n",
    "\n",
    "print(s[-1])  #n\n",
    "print(s[-4])  #t"
   ]
  },
  {
   "cell_type": "code",
   "execution_count": 16,
   "metadata": {},
   "outputs": [
    {
     "ename": "TypeError",
     "evalue": "'str' object does not support item assignment",
     "output_type": "error",
     "traceback": [
      "\u001b[1;31m---------------------------------------------------------------------------\u001b[0m",
      "\u001b[1;31mTypeError\u001b[0m                                 Traceback (most recent call last)",
      "\u001b[1;32m~\\AppData\\Local\\Temp/ipykernel_1020/2311064149.py\u001b[0m in \u001b[0;36m<module>\u001b[1;34m\u001b[0m\n\u001b[0;32m      1\u001b[0m \u001b[0ms\u001b[0m\u001b[1;33m=\u001b[0m\u001b[1;34m\"python\"\u001b[0m\u001b[1;33m\u001b[0m\u001b[1;33m\u001b[0m\u001b[0m\n\u001b[1;32m----> 2\u001b[1;33m \u001b[0ms\u001b[0m\u001b[1;33m[\u001b[0m\u001b[1;36m0\u001b[0m\u001b[1;33m]\u001b[0m\u001b[1;33m=\u001b[0m\u001b[1;34m'P'\u001b[0m\u001b[1;33m\u001b[0m\u001b[1;33m\u001b[0m\u001b[0m\n\u001b[0m\u001b[0;32m      3\u001b[0m \u001b[0mprint\u001b[0m\u001b[1;33m(\u001b[0m\u001b[0ms\u001b[0m\u001b[1;33m)\u001b[0m\u001b[1;33m\u001b[0m\u001b[1;33m\u001b[0m\u001b[0m\n",
      "\u001b[1;31mTypeError\u001b[0m: 'str' object does not support item assignment"
     ]
    }
   ],
   "source": [
    "\n",
    "s=\"python\"\n",
    "s[0]='P'\n",
    "print(s)    "
   ]
  },
  {
   "cell_type": "code",
   "execution_count": 19,
   "metadata": {},
   "outputs": [
    {
     "name": "stdout",
     "output_type": "stream",
     "text": [
      "[1, 2, 3, 4, 5, 'a', 'b', 'c']\n",
      "1\n",
      "c\n",
      "<class 'list'>\n"
     ]
    }
   ],
   "source": [
    "#list\n",
    "l = [1,2,3,4,5,\"a\",\"b\",\"c\"]\n",
    "print(l)\n",
    "print(l[0])\n",
    "print(l[-1])\n",
    "print(type(l))"
   ]
  },
  {
   "cell_type": "code",
   "execution_count": 20,
   "metadata": {},
   "outputs": [
    {
     "name": "stdout",
     "output_type": "stream",
     "text": [
      "[1, 2, 3, 3]\n",
      "[1, 5, 3, 3]\n"
     ]
    }
   ],
   "source": [
    "l = [1,2,3,3]\n",
    "print(l)\n",
    "l[1] = 5\n",
    "print(l)"
   ]
  },
  {
   "cell_type": "code",
   "execution_count": 45,
   "metadata": {},
   "outputs": [
    {
     "name": "stdout",
     "output_type": "stream",
     "text": [
      "['p', 'y', 't', 'h', 'o', 'n']\n",
      "<class 'list'>\n",
      "['P', 'y', 't', 'h', 'o', 'n']\n",
      "<class 'list'>\n"
     ]
    }
   ],
   "source": [
    "s = \"python\"\n",
    "#s[0] = 'P'\n",
    "r = list(s)\n",
    "print(r)\n",
    "print(type(r)) \n",
    "\n",
    "r[0] = 'P'\n",
    "print(r)\n",
    "print(type(r))"
   ]
  },
  {
   "cell_type": "code",
   "execution_count": 46,
   "metadata": {},
   "outputs": [
    {
     "name": "stdout",
     "output_type": "stream",
     "text": [
      "(1, 2, 3, 4, 5, 'python')\n",
      "1\n",
      "python\n",
      "<class 'tuple'>\n"
     ]
    }
   ],
   "source": [
    "#tuple\n",
    "t=(1,2,3,4,5,'python')\n",
    "print(t)\n",
    "print(t[0])\n",
    "print(t[-1])\n",
    "print(type(t))"
   ]
  },
  {
   "cell_type": "code",
   "execution_count": 47,
   "metadata": {},
   "outputs": [
    {
     "name": "stdout",
     "output_type": "stream",
     "text": [
      "True\n",
      "False\n",
      "<class 'bool'>\n",
      "<class 'bool'>\n"
     ]
    }
   ],
   "source": [
    "#bollean=>true or false\n",
    "a=True\n",
    "b=False\n",
    "print(a)\n",
    "print(b)\n",
    "print(type(a))\n",
    "print(type(b))"
   ]
  },
  {
   "cell_type": "code",
   "execution_count": 48,
   "metadata": {},
   "outputs": [
    {
     "name": "stdout",
     "output_type": "stream",
     "text": [
      "{1, 2, 3, 4, 5}\n",
      "<class 'set'>\n"
     ]
    }
   ],
   "source": [
    "#set\n",
    "s = {1,2,3,4,5,5}\n",
    "print(s)\n",
    "print(type(s))\n",
    "\n",
    "#print(s[0])\n",
    "\n",
    "# for i in s:\n",
    "#     print(i)"
   ]
  },
  {
   "cell_type": "code",
   "execution_count": 50,
   "metadata": {},
   "outputs": [
    {
     "name": "stdout",
     "output_type": "stream",
     "text": [
      "{'name': 'john', 'age': 20, 'marks': [10, 20, 30]}\n",
      "[10, 20, 30]\n",
      "20\n",
      "<class 'dict'>\n"
     ]
    }
   ],
   "source": [
    "students = {\n",
    "    'name':'john',\n",
    "    'age':20,\n",
    "    'marks':[10,20,30]\n",
    "}\n",
    "print(students)\n",
    "\n",
    "print(students['marks'])\n",
    "print(students.get('age'))\n",
    "print(type(students))"
   ]
  },
  {
   "cell_type": "code",
   "execution_count": 51,
   "metadata": {},
   "outputs": [
    {
     "name": "stdout",
     "output_type": "stream",
     "text": [
      "hello\n",
      "The value of a is:  hello\n",
      "The value of a is: world and value of b is world\n",
      "The value of a is hello\n"
     ]
    }
   ],
   "source": [
    "a = \"hello\"\n",
    "b = \"world\"\n",
    "print(a)\n",
    "print(\"The value of a is: \", a)\n",
    "print(\"The value of a is: {1} and value of b is {1}\".format(a,b))\n",
    "print(f\"The value of a is {a}\")"
   ]
  }
 ],
 "metadata": {
  "interpreter": {
   "hash": "69a7ec1f19fe8e6b4d60bff3a060a39e42b8b78906aa04442e53246e4bcaf9b9"
  },
  "kernelspec": {
   "display_name": "Python 3.7.8 64-bit",
   "language": "python",
   "name": "python3"
  },
  "language_info": {
   "codemirror_mode": {
    "name": "ipython",
    "version": 3
   },
   "file_extension": ".py",
   "mimetype": "text/x-python",
   "name": "python",
   "nbconvert_exporter": "python",
   "pygments_lexer": "ipython3",
   "version": "3.7.8"
  },
  "orig_nbformat": 4
 },
 "nbformat": 4,
 "nbformat_minor": 2
}
