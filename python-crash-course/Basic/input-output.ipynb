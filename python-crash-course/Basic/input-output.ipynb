{
 "cells": [
  {
   "cell_type": "code",
   "execution_count": 1,
   "metadata": {},
   "outputs": [
    {
     "name": "stdout",
     "output_type": "stream",
     "text": [
      "Hello,deepen\n",
      "<class 'str'>\n"
     ]
    }
   ],
   "source": [
    "#Python get user input with a message\n",
    "# Taking input from the user\n",
    "name = input(\"Enter your name: \")\n",
    " \n",
    "# Output\n",
    "print(\"Hello,\" + name)\n",
    "result = type(name)\n",
    "print(result)"
   ]
  },
  {
   "cell_type": "code",
   "execution_count": null,
   "metadata": {},
   "outputs": [],
   "source": [
    "\n"
   ]
  },
  {
   "cell_type": "code",
   "execution_count": 3,
   "metadata": {},
   "outputs": [
    {
     "name": "stdout",
     "output_type": "stream",
     "text": [
      "Python\n",
      "P y t h o n\n",
      "Python\n",
      "5 10\n"
     ]
    }
   ],
   "source": [
    "#Python Print Output\n",
    "# print() method\n",
    "print(\"Python\")\n",
    " \n",
    "# code for disabling the softspace feature \n",
    "print('P','y','t','h','o','n')\n",
    "\n",
    "s = \"Python\"\n",
    "print(s)\n",
    "\n",
    "a = 5\n",
    "b = 10\n",
    "print(a,b)"
   ]
  },
  {
   "cell_type": "markdown",
   "metadata": {},
   "source": [
    "Formatting Output\n",
    "format() => string.format()\n",
    "f-strings => string interpolation"
   ]
  },
  {
   "cell_type": "code",
   "execution_count": 8,
   "metadata": {},
   "outputs": [
    {
     "name": "stdout",
     "output_type": "stream",
     "text": [
      "Hello World\n",
      "the value is:Hello anything World\n",
      "The value of a is Hello and The value of b is World\n"
     ]
    }
   ],
   "source": [
    "#Python String formatting using F string and format()\n",
    "a = \"Hello\"\n",
    "b = \"World\"\n",
    "\n",
    "print(a,b)\n",
    "\n",
    "print('the value is:{} anything {}'.format(a,b))\n",
    "\n",
    "print(f\"The value of a is {a} and The value of b is {b}\")"
   ]
  },
  {
   "cell_type": "code",
   "execution_count": 9,
   "metadata": {},
   "outputs": [
    {
     "name": "stdout",
     "output_type": "stream",
     "text": [
      "The value of a is 6 and b is 6\n",
      "The value of a is 6 and b is 6\n"
     ]
    }
   ],
   "source": [
    "a = 6\n",
    "b = 6\n",
    "print('The value of a is {0} and b is {1}'.format(a,b))\n",
    "print(f'The value of a is {a} and b is {b}')"
   ]
  }
 ],
 "metadata": {
  "interpreter": {
   "hash": "69a7ec1f19fe8e6b4d60bff3a060a39e42b8b78906aa04442e53246e4bcaf9b9"
  },
  "kernelspec": {
   "display_name": "Python 3.7.8 64-bit",
   "language": "python",
   "name": "python3"
  },
  "language_info": {
   "codemirror_mode": {
    "name": "ipython",
    "version": 3
   },
   "file_extension": ".py",
   "mimetype": "text/x-python",
   "name": "python",
   "nbconvert_exporter": "python",
   "pygments_lexer": "ipython3",
   "version": "3.7.8"
  },
  "orig_nbformat": 4
 },
 "nbformat": 4,
 "nbformat_minor": 2
}
