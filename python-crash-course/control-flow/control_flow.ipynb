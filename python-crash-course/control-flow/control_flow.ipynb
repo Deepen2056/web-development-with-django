{
 "cells": [
  {
   "cell_type": "markdown",
   "metadata": {},
   "source": [
    "Control Flow (loops and conditional statements)"
   ]
  },
  {
   "cell_type": "markdown",
   "metadata": {},
   "source": [
    "Boolean expressions"
   ]
  },
  {
   "cell_type": "code",
   "execution_count": 5,
   "metadata": {},
   "outputs": [
    {
     "name": "stdout",
     "output_type": "stream",
     "text": [
      "True\n",
      "False\n"
     ]
    }
   ],
   "source": [
    "i=10\n",
    "#num=input(\"enter any number\")\n",
    "#i=int(num)\n",
    "j=5\n",
    "print(i<15) #15is greater than 5\n",
    "print(i==5 and j<9) #i is not equall than 5 and j is less then 9 so in and operator false and true=false"
   ]
  },
  {
   "cell_type": "markdown",
   "metadata": {},
   "source": [
    "if statements"
   ]
  },
  {
   "cell_type": "code",
   "execution_count": 6,
   "metadata": {},
   "outputs": [
    {
     "name": "stdout",
     "output_type": "stream",
     "text": [
      "10 is less than 15\n",
      "I am Not in if\n"
     ]
    }
   ],
   "source": [
    "i = 100\n",
    "\n",
    "if (i > 15):\n",
    "\tprint(\"10 is less than 15\")\n",
    "print(\"I am Not in if\")"
   ]
  },
  {
   "cell_type": "markdown",
   "metadata": {},
   "source": [
    "if ..else statements"
   ]
  },
  {
   "cell_type": "code",
   "execution_count": 49,
   "metadata": {},
   "outputs": [
    {
     "name": "stdout",
     "output_type": "stream",
     "text": [
      "i is greater than 15\n",
      "i m in else block \n",
      "i'm not in if and not in else Block\n"
     ]
    }
   ],
   "source": [
    "i = 25\n",
    "\n",
    "if (i<15):\n",
    "\tprint(\"i is smaller than 15\")\n",
    "\tprint(\"i'm in if Block\")\n",
    "\n",
    "else:\n",
    "\tprint(\"i is greater than 15\")\n",
    "\tprint(\"i m in else block \")\t\n",
    "print(\"i'm not in if and not in else Block\")\n"
   ]
  },
  {
   "cell_type": "code",
   "execution_count": 52,
   "metadata": {},
   "outputs": [
    {
     "name": "stdout",
     "output_type": "stream",
     "text": [
      "var 3 is greater\n",
      "hello im deepen bhujel\n"
     ]
    }
   ],
   "source": [
    "var1=23\n",
    "var2=45\n",
    "var3=int(input()) #if var2 is 25\n",
    "if(var2<var3):\n",
    "    print(\"var 3 is greater\")\n",
    "\n",
    "else:\n",
    "    print(\"var 2 is greater\")   #var 2 is greater\n",
    "\n",
    "print(\"hello im deepen bhujel\")    "
   ]
  },
  {
   "cell_type": "code",
   "execution_count": 53,
   "metadata": {},
   "outputs": [
    {
     "name": "stdout",
     "output_type": "stream",
     "text": [
      "hye im deepenS\n"
     ]
    }
   ],
   "source": [
    "age=int(input(\"enter your age\"))\n",
    "if(age<20):\n",
    "    print(\"i love you\")\n",
    "\n",
    "elif(age==20):\n",
    "    print(\"i hate you\") \n",
    "\n",
    "else:\n",
    "    print(\"hye im deepenS\")       "
   ]
  },
  {
   "cell_type": "markdown",
   "metadata": {},
   "source": [
    "For loop\n"
   ]
  },
  {
   "cell_type": "code",
   "execution_count": 36,
   "metadata": {},
   "outputs": [
    {
     "name": "stdout",
     "output_type": "stream",
     "text": [
      "h\n",
      "e\n",
      "l\n",
      "l\n",
      "o\n"
     ]
    }
   ],
   "source": [
    "s=\"hello\"\n",
    "#for item in s:\n",
    "#    print(item)\n",
    "\n",
    "#l1=list(s)      #it means l1=s  s=\"hello\" value assign to l1\n",
    "#for item in l1:\n",
    "#    print(item)\n",
    "\n",
    "l2=[1,2,3,4,5]\n",
    "for item in l2:\n",
    "    print(item)    \n",
    "\n"
   ]
  },
  {
   "cell_type": "code",
   "execution_count": 39,
   "metadata": {},
   "outputs": [
    {
     "name": "stdout",
     "output_type": "stream",
     "text": [
      "deepen\n",
      "bhujel\n",
      "bca\n",
      "ilam\n",
      "1\n",
      "2\n",
      "3\n",
      "4\n",
      "ptyhon\n",
      "D\n",
      "j\n",
      "a\n",
      "n\n",
      "g\n",
      "o\n"
     ]
    }
   ],
   "source": [
    "# Python program to illustrate\n",
    "# Iterating over a list\n",
    "list1=[\"deepen\",\"bhujel\",\"bca\",\"ilam\"]\n",
    "for item in list1:\n",
    "    print(item)\n",
    "\n",
    "#iterating over a tuple\n",
    "t=(1,2,3,4,\"ptyhon\")\n",
    "for item in t:\n",
    "    print(item)        \n",
    "\n",
    "# Iterating over a String\n",
    "s = \"Django\"\n",
    "for i in s:\n",
    "\tprint(i)"
   ]
  },
  {
   "cell_type": "code",
   "execution_count": 43,
   "metadata": {},
   "outputs": [
    {
     "name": "stdout",
     "output_type": "stream",
     "text": [
      "a : 100\n",
      "b : 200\n",
      "c : 300\n"
     ]
    }
   ],
   "source": [
    "# Iterating over dictionary\n",
    "d = {'a': 100, 'b': 200, 'c': 300}\n",
    "\n",
    "for i in d:\n",
    "#   print(f\"{i} : {d[i]}\")\n",
    "    print(f\"{i} : {d[i]}\")"
   ]
  },
  {
   "cell_type": "code",
   "execution_count": null,
   "metadata": {},
   "outputs": [],
   "source": [
    "for item in range(1,11):\n",
    "    print(item)  #for disply more number in for loop"
   ]
  },
  {
   "cell_type": "markdown",
   "metadata": {},
   "source": [
    "While loop:-\n",
    "                 With the while loop we can execute a set of statements as long as a condition is true."
   ]
  },
  {
   "cell_type": "code",
   "execution_count": 131,
   "metadata": {},
   "outputs": [
    {
     "name": "stdout",
     "output_type": "stream",
     "text": [
      "my name is deepen\n",
      "my name is deepen\n",
      "my name is deepen\n"
     ]
    }
   ],
   "source": [
    "count=0\n",
    "while  range(count < 3):\n",
    "    count=count + 1\n",
    "    print(\"my name is deepen\")\n"
   ]
  },
  {
   "cell_type": "code",
   "execution_count": 95,
   "metadata": {},
   "outputs": [
    {
     "name": "stdout",
     "output_type": "stream",
     "text": [
      "Hello there\n",
      "Hello there\n",
      "Hello there\n"
     ]
    }
   ],
   "source": [
    "# Python program to illustrate\n",
    "# while loop\n",
    "count = 0\n",
    "while (count < 3):\n",
    "\tcount = count + 1\n",
    "\tprint(\"Hello there\")"
   ]
  },
  {
   "cell_type": "code",
   "execution_count": 132,
   "metadata": {},
   "outputs": [
    {
     "name": "stdout",
     "output_type": "stream",
     "text": [
      "1\n",
      "2\n",
      "3\n",
      "4\n",
      "5\n",
      "6\n",
      "7\n",
      "8\n",
      "9\n",
      "10\n"
     ]
    }
   ],
   "source": [
    "#display 1 to 10 number using while loop\n",
    "i=1\n",
    "while(i<=10):   \n",
    "    print(i)\n",
    "    i=i+1 "
   ]
  },
  {
   "cell_type": "markdown",
   "metadata": {},
   "source": [
    "Break and continious statement"
   ]
  },
  {
   "cell_type": "code",
   "execution_count": 169,
   "metadata": {},
   "outputs": [
    {
     "name": "stdout",
     "output_type": "stream",
     "text": [
      "w\n",
      "e\n",
      "Out of for loop\n"
     ]
    }
   ],
   "source": [
    "text = 'webdevelopmentwithdjango'\n",
    "# Using for loop\n",
    "for letter in text:\n",
    "\tprint(letter)\n",
    "\tif letter == 'e' or letter == 'p':\n",
    "\t  break\n",
    "\n",
    "print(\"Out of for loop\")"
   ]
  },
  {
   "cell_type": "code",
   "execution_count": 187,
   "metadata": {},
   "outputs": [
    {
     "name": "stdout",
     "output_type": "stream",
     "text": [
      "w\n",
      "e\n",
      "b\n",
      "d\n",
      "e\n",
      "v\n",
      "e\n",
      "l\n",
      "o\n",
      "p\n",
      "m\n",
      "e\n",
      "n\n",
      "t\n",
      "w\n",
      "i\n",
      "t\n",
      "h\n",
      "d\n",
      "j\n",
      "a\n",
      "n\n",
      "g\n",
      "o\n",
      "Out of for loop\n",
      "\n"
     ]
    }
   ],
   "source": [
    "text = 'webdevelopmentwithdjango'\n",
    "# Using for loop\n",
    "for letter in text:\n",
    "\tprint(letter)\n",
    "\tif letter == 'e' or letter == 'p':\n",
    "\t\tcontinue\n",
    "\n",
    "print(\"Out of for loop\")\n",
    "print()"
   ]
  },
  {
   "cell_type": "code",
   "execution_count": 1,
   "metadata": {},
   "outputs": [
    {
     "name": "stdout",
     "output_type": "stream",
     "text": [
      "b\n",
      "c\n",
      "d\n"
     ]
    }
   ],
   "source": [
    "li =['a', 'b', 'c', 'd']\n",
    "\n",
    "for i in li:\n",
    "\tif(i =='a'):\n",
    "\t\tpass\n",
    "\telse:\n",
    "\t\tprint(i)"
   ]
  }
 ],
 "metadata": {
  "interpreter": {
   "hash": "69a7ec1f19fe8e6b4d60bff3a060a39e42b8b78906aa04442e53246e4bcaf9b9"
  },
  "kernelspec": {
   "display_name": "Python 3.7.8 64-bit",
   "language": "python",
   "name": "python3"
  },
  "language_info": {
   "codemirror_mode": {
    "name": "ipython",
    "version": 3
   },
   "file_extension": ".py",
   "mimetype": "text/x-python",
   "name": "python",
   "nbconvert_exporter": "python",
   "pygments_lexer": "ipython3",
   "version": "3.7.8"
  },
  "orig_nbformat": 4
 },
 "nbformat": 4,
 "nbformat_minor": 2
}
