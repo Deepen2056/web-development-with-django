{
 "cells": [
  {
   "cell_type": "markdown",
   "metadata": {},
   "source": [
    "Control Flow (loops and conditional statements)"
   ]
  },
  {
   "cell_type": "markdown",
   "metadata": {},
   "source": [
    "Boolean expressions"
   ]
  },
  {
   "cell_type": "code",
   "execution_count": 5,
   "metadata": {},
   "outputs": [
    {
     "name": "stdout",
     "output_type": "stream",
     "text": [
      "True\n",
      "False\n"
     ]
    }
   ],
   "source": [
    "i=10\n",
    "#num=input(\"enter any number\")\n",
    "#i=int(num)\n",
    "j=5\n",
    "print(i<15) #15is greater than 5\n",
    "print(i==5 and j<9) #i is not equall than 5 and j is less then 9 so in and operator false and true=false"
   ]
  },
  {
   "cell_type": "markdown",
   "metadata": {},
   "source": [
    "if statements"
   ]
  },
  {
   "cell_type": "code",
   "execution_count": 6,
   "metadata": {},
   "outputs": [
    {
     "name": "stdout",
     "output_type": "stream",
     "text": [
      "10 is less than 15\n",
      "I am Not in if\n"
     ]
    }
   ],
   "source": [
    "i = 100\n",
    "\n",
    "if (i > 15):\n",
    "\tprint(\"10 is less than 15\")\n",
    "print(\"I am Not in if\")"
   ]
  },
  {
   "cell_type": "code",
   "execution_count": 37,
   "metadata": {},
   "outputs": [
    {
     "ename": "TabError",
     "evalue": "inconsistent use of tabs and spaces in indentation (Temp/ipykernel_6044/300348475.py, line 8)",
     "output_type": "error",
     "traceback": [
      "\u001b[1;36m  File \u001b[1;32m\"C:\\Users\\Asus\\AppData\\Local\\Temp/ipykernel_6044/300348475.py\"\u001b[1;36m, line \u001b[1;32m8\u001b[0m\n\u001b[1;33m    print(\"i'm in else Block\")\u001b[0m\n\u001b[1;37m                              ^\u001b[0m\n\u001b[1;31mTabError\u001b[0m\u001b[1;31m:\u001b[0m inconsistent use of tabs and spaces in indentation\n"
     ]
    }
   ],
   "source": [
    "i=20\n",
    "\n",
    "if (i<15):\n",
    "    print(\"the num is smaller than 15\")\n",
    "    print(\"im in if block\")\n",
    "else:\n",
    "    print(\"i is greater than 15\")\n",
    "\tprint(\"i'm in else Block\")\n",
    "\n",
    "print(\"i'm not in if and not in else Block\")\n",
    "\n",
    "\n",
    "\n",
    "    \n",
    "\n",
    "\n",
    "\n",
    "\n",
    "        \n",
    "\n"
   ]
  },
  {
   "cell_type": "code",
   "execution_count": 29,
   "metadata": {},
   "outputs": [
    {
     "name": "stdout",
     "output_type": "stream",
     "text": [
      "i is greater than 15\n",
      "i'm in else Block\n",
      "i'm not in if and not in else Block\n"
     ]
    }
   ],
   "source": [
    "i = 20\n",
    "\n",
    "if (i < 15):\n",
    "\tprint(\"i is smaller than 15\")\n",
    "\tprint(\"i'm in if Block\")\n",
    "\n",
    "else:\n",
    "\tprint(\"i is greater than 15\")\n",
    "\tprint(\"i'm in else Block\")\n",
    "\n",
    "print(\"i'm not in if and not in else Block\")"
   ]
  }
 ],
 "metadata": {
  "interpreter": {
   "hash": "69a7ec1f19fe8e6b4d60bff3a060a39e42b8b78906aa04442e53246e4bcaf9b9"
  },
  "kernelspec": {
   "display_name": "Python 3.7.8 64-bit",
   "language": "python",
   "name": "python3"
  },
  "language_info": {
   "codemirror_mode": {
    "name": "ipython",
    "version": 3
   },
   "file_extension": ".py",
   "mimetype": "text/x-python",
   "name": "python",
   "nbconvert_exporter": "python",
   "pygments_lexer": "ipython3",
   "version": "3.7.8"
  },
  "orig_nbformat": 4
 },
 "nbformat": 4,
 "nbformat_minor": 2
}
