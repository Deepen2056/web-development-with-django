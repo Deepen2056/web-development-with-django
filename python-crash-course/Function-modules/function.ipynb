{
 "cells": [
  {
   "cell_type": "code",
   "execution_count": 3,
   "metadata": {},
   "outputs": [
    {
     "name": "stdout",
     "output_type": "stream",
     "text": [
      "10\n"
     ]
    }
   ],
   "source": [
    "a=10\n",
    "print(a)  #print() is  built in function"
   ]
  },
  {
   "cell_type": "code",
   "execution_count": 25,
   "metadata": {},
   "outputs": [
    {
     "name": "stdout",
     "output_type": "stream",
     "text": [
      "8\n",
      "<class 'list'>\n"
     ]
    }
   ],
   "source": [
    "list=[1,2,3,4,5,6,77,88]\n",
    "#print(list)\n",
    "a=len(list)\n",
    "print(a)\n",
    "print(type(list))"
   ]
  },
  {
   "cell_type": "markdown",
   "metadata": {},
   "source": [
    "user defined function"
   ]
  },
  {
   "cell_type": "code",
   "execution_count": 42,
   "metadata": {},
   "outputs": [
    {
     "name": "stdout",
     "output_type": "stream",
     "text": [
      "hello'im deepen bhujel\n",
      "hello'im deepen bhujel\n",
      "hello'im deepen bhujel\n"
     ]
    }
   ],
   "source": [
    "def my_fun():    #my_fun is user defined function\n",
    "    print(\"hello'im deepen bhujel\")\n",
    "\n",
    "my_fun()\n",
    "my_fun()\n",
    "my_fun()   "
   ]
  },
  {
   "cell_type": "code",
   "execution_count": 59,
   "metadata": {},
   "outputs": [
    {
     "name": "stdout",
     "output_type": "stream",
     "text": [
      "hye Deepen\n",
      "hye bhujel\n"
     ]
    }
   ],
   "source": [
    "def hello(a):  #name = \"Deepen\"\n",
    "    print(f\"hye {a}\")\n",
    "\n",
    "b= 'Deepen'\n",
    "hello(b)\n",
    "\n",
    "c = 'bhujel'\n",
    "hello(c)"
   ]
  },
  {
   "cell_type": "code",
   "execution_count": 66,
   "metadata": {},
   "outputs": [
    {
     "name": "stdout",
     "output_type": "stream",
     "text": [
      "hye deepen \n",
      "hye bhujel \n"
     ]
    }
   ],
   "source": [
    "#default argument\n",
    "def hello3(name='deepen'):\n",
    "    print(f\"hye {name} \")   #it means store name=deepen in \n",
    "\n",
    "hello3()\n",
    "c='bhujel'   #it is exis because same fun name\n",
    "hello3(c)  "
   ]
  },
  {
   "cell_type": "code",
   "execution_count": 16,
   "metadata": {},
   "outputs": [
    {
     "name": "stdout",
     "output_type": "stream",
     "text": [
      "hello fname=deepen mname=bahadur lname=bhujel\n"
     ]
    }
   ],
   "source": [
    "#keyword Argument\n",
    "def hello3(fname,mname,lname):\n",
    "    print(f\"hello fname={fname} mname={mname} lname={lname}\")\n",
    "\n",
    "#hello3(\"deeepen\",\"bahadur\",\"bhujel\")\n",
    "hello3(fname='deepen' ,lname='bhujel' ,mname='bahadur') \n"
   ]
  },
  {
   "cell_type": "code",
   "execution_count": 3,
   "metadata": {},
   "outputs": [
    {
     "name": "stdout",
     "output_type": "stream",
     "text": [
      "(5, 6, 7, 8, 9)\n",
      "<class 'tuple'>\n",
      "5\n",
      "6\n",
      "7\n",
      "8\n",
      "9\n",
      "('Hello', 'Welcome', 'to', 'Python', 5, 7)\n",
      "<class 'tuple'>\n",
      "Hello\n",
      "Welcome\n",
      "to\n",
      "Python\n",
      "5\n",
      "7\n"
     ]
    }
   ],
   "source": [
    "def myFun(*a):\n",
    "    print(a)  #it means print a  \n",
    "    print(type(a))   #it menas check type of a argument\n",
    "    for e in a:        #use of for loop\n",
    "        print(e)\n",
    "\n",
    "myFun(5,6,7,8,9)\n",
    "myFun('Hello', 'Welcome', 'to', 'Python',5,7)\n",
    "# myFun(1,2,3,4)"
   ]
  },
  {
   "cell_type": "code",
   "execution_count": 31,
   "metadata": {},
   "outputs": [
    {
     "name": "stdout",
     "output_type": "stream",
     "text": [
      "{'first': 'Python', 'mid': 'is the best', 'last': 'Programming language'}\n",
      "Programming language\n"
     ]
    }
   ],
   "source": [
    "def myFun(**kwargs):    #it contain key and value like fname='deepen'\n",
    "\tprint(kwargs)\n",
    "\t#print(type(kwargs))\n",
    "\tprint(kwargs['last'])\n",
    "\n",
    "myFun(first='Python', mid='is the best', last='Programming language')"
   ]
  },
  {
   "cell_type": "code",
   "execution_count": 56,
   "metadata": {},
   "outputs": [
    {
     "name": "stdout",
     "output_type": "stream",
     "text": [
      "5\n"
     ]
    }
   ],
   "source": [
    "def add(a,b):\n",
    "    sum=a+b\n",
    "    return sum\n",
    "\n",
    "\n",
    "\n",
    "#add(8,9)    #it is direct method call fun\n",
    "c=add(2,3)\n",
    "print(c) \n",
    "      "
   ]
  },
  {
   "cell_type": "code",
   "execution_count": 44,
   "metadata": {},
   "outputs": [
    {
     "name": "stdout",
     "output_type": "stream",
     "text": [
      "hello bhujel,how are you?\n"
     ]
    }
   ],
   "source": [
    "def hello(name):\n",
    "    result=f\"hello {name},how are you?\"\n",
    "    return result\n",
    "\n",
    "hello('deepen')\n",
    "#c=hello('bhujel')\n",
    "print(c)\n"
   ]
  },
  {
   "cell_type": "markdown",
   "metadata": {},
   "source": [
    "lambda function-:A lambda function is a small anonymous function. A lambda function can take any number of arguments, but can only have one expression."
   ]
  },
  {
   "cell_type": "code",
   "execution_count": 67,
   "metadata": {},
   "outputs": [
    {
     "name": "stdout",
     "output_type": "stream",
     "text": [
      "3\n"
     ]
    }
   ],
   "source": [
    "sum =lambda a,b:a+b\n",
    "s =sum(1,2)\n",
    "print(s)"
   ]
  },
  {
   "cell_type": "code",
   "execution_count": 81,
   "metadata": {},
   "outputs": [
    {
     "name": "stdout",
     "output_type": "stream",
     "text": [
      "9\n"
     ]
    }
   ],
   "source": [
    "def absolute(a):\n",
    "    if a >= 0:\n",
    "        return a\n",
    "    else:\n",
    "        return -a \n",
    "\n",
    "r = absolute(-9)\n",
    "print(r)"
   ]
  },
  {
   "cell_type": "code",
   "execution_count": 82,
   "metadata": {},
   "outputs": [
    {
     "name": "stdout",
     "output_type": "stream",
     "text": [
      "3\n",
      "6\n",
      "10\n"
     ]
    }
   ],
   "source": [
    "def add(*a):\n",
    "    sum = 0\n",
    "    for i in a:\n",
    "        sum  = sum + i\n",
    "        \n",
    "    return sum\n",
    "   \n",
    "\n",
    "r1 = add(1,5)\n",
    "r2 = add(3,2,3)\n",
    "r3 = add(1,2,3,4)\n",
    "\n",
    "print(r1)\n",
    "print(r2)\n",
    "print(r3)"
   ]
  },
  {
   "cell_type": "code",
   "execution_count": 83,
   "metadata": {},
   "outputs": [
    {
     "name": "stdout",
     "output_type": "stream",
     "text": [
      "8\n"
     ]
    }
   ],
   "source": [
    "def cube(y):\n",
    "\treturn y*y*y\n",
    "\n",
    "r = cube(2)\n",
    "print(r)\n"
   ]
  },
  {
   "cell_type": "code",
   "execution_count": null,
   "metadata": {},
   "outputs": [],
   "source": [
    "l = lambda y:y*y*y\n",
    "\n",
    "r = l(2)\n",
    "print(r)"
   ]
  },
  {
   "cell_type": "markdown",
   "metadata": {},
   "source": [
    "# map()\n",
    "# filter()"
   ]
  },
  {
   "cell_type": "code",
   "execution_count": 85,
   "metadata": {},
   "outputs": [
    {
     "name": "stdout",
     "output_type": "stream",
     "text": [
      "[2, 4, 6, 8, 10]\n"
     ]
    }
   ],
   "source": [
    "#map(function,sequence)\n",
    "\n",
    "l = [1,2,3,4,5]\n",
    "r = list(map(lambda x:x*2,l))\n",
    "print(r)"
   ]
  },
  {
   "cell_type": "code",
   "execution_count": 86,
   "metadata": {},
   "outputs": [
    {
     "name": "stdout",
     "output_type": "stream",
     "text": [
      "[22, 54, 62]\n"
     ]
    }
   ],
   "source": [
    "li = [5, 7, 22, 97, 54, 62, 77, 23, 73, 61]\n",
    "\n",
    "final_list = list(filter(lambda x: (x%2 ==0) , li))\n",
    "print(final_list)"
   ]
  }
 ],
 "metadata": {
  "interpreter": {
   "hash": "69a7ec1f19fe8e6b4d60bff3a060a39e42b8b78906aa04442e53246e4bcaf9b9"
  },
  "kernelspec": {
   "display_name": "Python 3.7.8 64-bit",
   "language": "python",
   "name": "python3"
  },
  "language_info": {
   "codemirror_mode": {
    "name": "ipython",
    "version": 3
   },
   "file_extension": ".py",
   "mimetype": "text/x-python",
   "name": "python",
   "nbconvert_exporter": "python",
   "pygments_lexer": "ipython3",
   "version": "3.7.8"
  },
  "orig_nbformat": 4
 },
 "nbformat": 4,
 "nbformat_minor": 2
}
